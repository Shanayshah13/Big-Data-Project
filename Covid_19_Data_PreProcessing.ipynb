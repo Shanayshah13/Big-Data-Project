{
 "cells": [
  {
   "cell_type": "code",
   "execution_count": 1,
   "id": "f7b01850",
   "metadata": {},
   "outputs": [],
   "source": [
    "import pandas as pd\n",
    "import numpy as np\n",
    "import seaborn as sns\n",
    "import matplotlib as plt\n",
    "from scipy import stats\n",
    "from tqdm import tqdm"
   ]
  },
  {
   "cell_type": "code",
   "execution_count": 2,
   "id": "49d7c665",
   "metadata": {},
   "outputs": [],
   "source": [
    "inputFile = \"MAESTRO-d6178bdd-identified_variants_merged_protein_regions-main.tsv\"\n",
    "data = pd.read_csv(inputFile,sep='\\t',low_memory=False)"
   ]
  },
  {
   "cell_type": "code",
   "execution_count": 22,
   "id": "28daa2cb",
   "metadata": {},
   "outputs": [],
   "source": [
    "data_processed = data[['Peptide'] + [c for c in data.columns if 'intensity_for_peptide_variant' in c]]"
   ]
  },
  {
   "cell_type": "code",
   "execution_count": 23,
   "id": "43e71abe",
   "metadata": {},
   "outputs": [
    {
     "name": "stderr",
     "output_type": "stream",
     "text": [
      "/home/aditya/.local/lib/python3.8/site-packages/pandas/core/frame.py:5238: SettingWithCopyWarning: \n",
      "A value is trying to be set on a copy of a slice from a DataFrame\n",
      "\n",
      "See the caveats in the documentation: https://pandas.pydata.org/pandas-docs/stable/user_guide/indexing.html#returning-a-view-versus-a-copy\n",
      "  return super().replace(\n"
     ]
    }
   ],
   "source": [
    "data_processed.replace(0.0,np.nan, inplace = True)"
   ]
  },
  {
   "cell_type": "code",
   "execution_count": 25,
   "id": "25622adf",
   "metadata": {},
   "outputs": [],
   "source": [
    "data_processed = data_processed.set_index(\"Peptide\")"
   ]
  },
  {
   "cell_type": "code",
   "execution_count": 27,
   "id": "80ec084a",
   "metadata": {},
   "outputs": [],
   "source": [
    "data_processed = data_processed.T"
   ]
  },
  {
   "cell_type": "code",
   "execution_count": 29,
   "id": "f93b8687",
   "metadata": {},
   "outputs": [],
   "source": [
    "data_processed.index = data_processed.index.map(lambda x:'.'.join(x.split('.')[:2]))"
   ]
  },
  {
   "cell_type": "code",
   "execution_count": 31,
   "id": "81a302d1",
   "metadata": {},
   "outputs": [],
   "source": [
    "def create_label(x):\n",
    "    if \"#Healthy\" in x:\n",
    "        return 1\n",
    "    elif \"#Non-severe-COVID-19\" in x:\n",
    "        return 2\n",
    "    elif \"#Severe-COVID-19\" in x:\n",
    "        return 3\n",
    "    elif \"#Symptomatic-non-COVID-19\" in x:\n",
    "        return 4\n",
    "    else:\n",
    "        return 0\n",
    "data_processed[\"label\"]=data_processed.index.map(lambda x: create_label(x))"
   ]
  },
  {
   "cell_type": "code",
   "execution_count": 34,
   "id": "c47b7556",
   "metadata": {},
   "outputs": [],
   "source": [
    "data_processed = data_processed[data_processed['label']!=0]"
   ]
  },
  {
   "cell_type": "code",
   "execution_count": 64,
   "id": "1ae7eb36",
   "metadata": {},
   "outputs": [],
   "source": [
    "#Filter Data based on NaN for each label\n",
    "per_label_count = data_processed.groupby('label').count()\n",
    "filterCondition = (per_label_count >= 18).all()\n",
    "filter_per_label = per_label_count.loc[:, filterCondition]\n",
    "filter_column = list(filter_per_label.columns) +['label']\n",
    "filter_data =  data_processed[filter_column]"
   ]
  },
  {
   "cell_type": "code",
   "execution_count": 79,
   "id": "a1eeff65",
   "metadata": {},
   "outputs": [
    {
     "name": "stderr",
     "output_type": "stream",
     "text": [
      "  0%|                                                    | 0/90 [00:00<?, ?it/s]/tmp/ipykernel_612715/3972711595.py:3: SettingWithCopyWarning: \n",
      "A value is trying to be set on a copy of a slice from a DataFrame.\n",
      "Try using .loc[row_indexer,col_indexer] = value instead\n",
      "\n",
      "See the caveats in the documentation: https://pandas.pydata.org/pandas-docs/stable/user_guide/indexing.html#returning-a-view-versus-a-copy\n",
      "  filter_data[column] = filter_data.groupby(\"label\")[column].transform(lambda x: x.fillna(x.mean()))\n",
      "11718it [00:28, 416.98it/s]                                                     \n"
     ]
    }
   ],
   "source": [
    "for column in tqdm(filter_data):\n",
    "    if column != \"label\":\n",
    "        filter_data[column] = filter_data.groupby(\"label\")[column].transform(lambda x: x.fillna(x.mean()))"
   ]
  },
  {
   "cell_type": "code",
   "execution_count": 82,
   "id": "865ea892",
   "metadata": {},
   "outputs": [],
   "source": [
    "##filter_data.to_csv(\"filterd_data.tsv\", sep=\"\\t\")"
   ]
  },
  {
   "cell_type": "code",
   "execution_count": null,
   "id": "92e82901",
   "metadata": {},
   "outputs": [],
   "source": []
  },
  {
   "cell_type": "code",
   "execution_count": null,
   "id": "9c9d5b04",
   "metadata": {},
   "outputs": [],
   "source": []
  }
 ],
 "metadata": {
  "kernelspec": {
   "display_name": "Python 3 (ipykernel)",
   "language": "python",
   "name": "python3"
  },
  "language_info": {
   "codemirror_mode": {
    "name": "ipython",
    "version": 3
   },
   "file_extension": ".py",
   "mimetype": "text/x-python",
   "name": "python",
   "nbconvert_exporter": "python",
   "pygments_lexer": "ipython3",
   "version": "3.8.10"
  }
 },
 "nbformat": 4,
 "nbformat_minor": 5
}
